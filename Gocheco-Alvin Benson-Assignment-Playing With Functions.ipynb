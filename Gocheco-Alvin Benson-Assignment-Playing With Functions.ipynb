{
 "cells": [
  {
   "cell_type": "markdown",
   "metadata": {},
   "source": [
    "192271  \n",
    "Gocheco  \n",
    "2 BS Management Engineering"
   ]
  },
  {
   "cell_type": "code",
   "execution_count": 2,
   "metadata": {},
   "outputs": [
    {
     "name": "stdout",
     "output_type": "stream",
     "text": [
      "Please enter the circumference of the circle: 10\n",
      "The area of the circle is 7.957728545963841\n"
     ]
    }
   ],
   "source": [
    "# Problem 1\n",
    "\n",
    "circumference = float(input(\"Please enter the circumference of the circle: \"))\n",
    "\n",
    "def area_circle(c):\n",
    "    pie = 3.1416\n",
    "    # formula of circumference is c = 2*pie*r\n",
    "    r = c/pie/2\n",
    "    area = pie * (r**2)\n",
    "    return area\n",
    "\n",
    "Area = area_circle(circumference)\n",
    "\n",
    "print(\"The area of the circle is\",Area)"
   ]
  },
  {
   "cell_type": "code",
   "execution_count": 7,
   "metadata": {},
   "outputs": [
    {
     "name": "stdout",
     "output_type": "stream",
     "text": [
      "olleH\n"
     ]
    }
   ],
   "source": [
    "# Problem 2\n",
    "def reverseString(A):\n",
    "    string = \"\"\n",
    "    for i in A:\n",
    "        string = i + string\n",
    "    return string\n",
    "\n",
    "print(reverseString(\"Hello\"))"
   ]
  },
  {
   "cell_type": "code",
   "execution_count": 8,
   "metadata": {},
   "outputs": [
    {
     "name": "stdout",
     "output_type": "stream",
     "text": [
      "Enter word:Hello\n",
      "olleH\n"
     ]
    }
   ],
   "source": [
    "# Problem 2 sir if you meant we need to input the parameter\n",
    "word = input(\"Enter word:\")\n",
    "def reverseString(A):\n",
    "    string = \"\"\n",
    "    for i in A:\n",
    "        string = i + string\n",
    "    return string\n",
    "\n",
    "print(reverseString(word))"
   ]
  },
  {
   "cell_type": "code",
   "execution_count": 11,
   "metadata": {},
   "outputs": [
    {
     "name": "stdout",
     "output_type": "stream",
     "text": [
      "15\n"
     ]
    }
   ],
   "source": [
    "# Problem 3\n",
    "\n",
    "def backAddition(B):\n",
    "    Sum = 0\n",
    "    while B >= 0:\n",
    "        Sum += B\n",
    "        B -= 1\n",
    "        if B == 0:\n",
    "            return(Sum)\n",
    "    \n",
    "print(backAddition(5))"
   ]
  },
  {
   "cell_type": "code",
   "execution_count": 5,
   "metadata": {},
   "outputs": [
    {
     "data": {
      "text/plain": [
       "15"
      ]
     },
     "execution_count": 5,
     "metadata": {},
     "output_type": "execute_result"
    }
   ],
   "source": [
    "# Problem 3 using lists\n",
    "\n",
    "A = list()\n",
    "\n",
    "\n",
    "def backAddition(B):\n",
    "    while B >= 0:\n",
    "        A.append(B)\n",
    "        B = B - 1\n",
    "        if B == 0:\n",
    "            return(sum(A))\n",
    "    \n",
    "backAddition(5)"
   ]
  },
  {
   "cell_type": "code",
   "execution_count": 16,
   "metadata": {},
   "outputs": [
    {
     "name": "stdout",
     "output_type": "stream",
     "text": [
      "The difference is 25164150\n"
     ]
    }
   ],
   "source": [
    "# Problem 4\n",
    "\n",
    "# Let n be the first n natural numbers\n",
    "n = 100\n",
    "\n",
    "# Let Sum1 be the sum of the squares of the first n natural numbers\n",
    "Sum1 = 0\n",
    "\n",
    "# Let Sum2 be a placeholder to add the sum before squaring it at Sum3\n",
    "Sum2 = 0 \n",
    "\n",
    "# Let Sum3 be the square of the sum of the first n natural numbers\n",
    "Sum3 = 0\n",
    "\n",
    "while n >= 0:\n",
    "    C = n**2\n",
    "    Sum1 = Sum1 + C\n",
    "    \n",
    "    # Adding the sum of the numbers for Sum3\n",
    "    Sum2 = Sum2 + n\n",
    "    n = n - 1\n",
    "    \n",
    "    if n == 0:\n",
    "    # Squaring Sum2 after all the numbers have been iterated\n",
    "        Sum3 = Sum2**2\n",
    "\n",
    "# Finding the difference between the sum of the squares of the first one hundred natural numbers and the square of the sum.\n",
    "Answer = Sum3 - Sum1\n",
    "print(\"The difference is\",Answer)\n",
    "    "
   ]
  },
  {
   "cell_type": "code",
   "execution_count": 19,
   "metadata": {},
   "outputs": [
    {
     "name": "stdout",
     "output_type": "stream",
     "text": [
      "Please enter change in cents 69\n",
      "0 number of 1pesos\n",
      "2 number of 25cents\n",
      "1 number of 10cents\n",
      "1 number of 5cents\n",
      "4 number of 1cents\n"
     ]
    }
   ],
   "source": [
    "#Problem 5\n",
    "\n",
    "Change = int(input(\"Please enter change in cents \"))\n",
    "Peso1 = 0\n",
    "Cents25 = 0\n",
    "Cents10 = 0\n",
    "Cents5 = 0 \n",
    "Cents1 = 0 \n",
    "\n",
    "#Let 1 pesos be equal to 100 cents, deduct all the 100 cents before deducting 25\n",
    "while Change >= 100:\n",
    "    Peso1 += 1\n",
    "    Change -= 100\n",
    "#Deducting all the 25 cents possible before deducting lower denominations\n",
    "while Change >= 25:\n",
    "    Cents25 += 1\n",
    "    Change -= 25\n",
    "while Change >= 10:\n",
    "    Cents10 += 1\n",
    "    Change -= 10\n",
    "while Change >= 5:\n",
    "    Cents5 += 1\n",
    "    Change -= 5\n",
    "while Change >= 1:\n",
    "    Cents1 += 1\n",
    "    Change -= 1\n",
    "print(Peso1, \"number of 1pesos\")\n",
    "print(Cents25, \"number of 25cents\")\n",
    "print(Cents10,\"number of 10cents\")\n",
    "print(Cents5,\"number of 5cents\")\n",
    "print(Cents1, \"number of 1cents\")"
   ]
  },
  {
   "cell_type": "markdown",
   "metadata": {},
   "source": [
    "###### "
   ]
  }
 ],
 "metadata": {
  "kernelspec": {
   "display_name": "Python 3",
   "language": "python",
   "name": "python3"
  },
  "language_info": {
   "codemirror_mode": {
    "name": "ipython",
    "version": 3
   },
   "file_extension": ".py",
   "mimetype": "text/x-python",
   "name": "python",
   "nbconvert_exporter": "python",
   "pygments_lexer": "ipython3",
   "version": "3.7.6"
  }
 },
 "nbformat": 4,
 "nbformat_minor": 4
}
