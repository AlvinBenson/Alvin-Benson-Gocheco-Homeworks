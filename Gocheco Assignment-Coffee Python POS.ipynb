{
 "cells": [
  {
   "cell_type": "markdown",
   "metadata": {},
   "source": [
    "## CoffeePython POS Terminal"
   ]
  },
  {
   "cell_type": "markdown",
   "metadata": {},
   "source": [
    "Version 2.0\n",
    "\n",
    "CoffeePython is specialty coffee place along Katipunan. It commissioned students to build a crude character-mode terminal based on Python and it ran pretty well.\n",
    "\n",
    "Due to the Covid-19 Pandemic that forced businesses to shut down, however, it had to pivot its business to online deliveries. The direction, however, is to make sure that the current Point-of-Sale (POS) system being used in the branches still work. There are some missing pieces that need to be reprogrammed again.\n",
    "\n",
    "CoffeePython has the following products:\n",
    "\n",
    "\n",
    "| Code          | Product Name  |  Price |\n",
    "|---------------|---------------|--------|\n",
    "| americano     | Americano     | 150.00 |\n",
    "| brewedcoffee  | Brewed Coffee | 110.00 |\n",
    "| cappuccino    | Cappuccino    | 170.00 |\n",
    "| dalgona       | Dalgona       | 120.00 |\n",
    "| espresso      | Espresso      | 140.00 |\n",
    "| frappuccino   | Frappuccino   | 170.00 |\n",
    "\n"
   ]
  },
  {
   "cell_type": "markdown",
   "metadata": {},
   "source": [
    "A Python dictionary containing the product information has already been created by the previous programmers:"
   ]
  },
  {
   "cell_type": "code",
   "execution_count": 3,
   "metadata": {},
   "outputs": [],
   "source": [
    "products = {\n",
    "    \"americano\":{\"name\":\"Americano\",\"price\":150.00},\n",
    "    \"brewedcoffee\":{\"name\":\"Brewed Coffee\",\"price\":110.00},\n",
    "    \"cappuccino\":{\"name\":\"Cappuccino\",\"price\":170.00},\n",
    "    \"dalgona\":{\"name\":\"Dalgona\",\"price\":170.00},\n",
    "    \"espresso\":{\"name\":\"Espresso\",\"price\":140.00},\n",
    "    \"frappuccino\":{\"name\":\"Frappuccino\",\"price\":170.00},\n",
    "}"
   ]
  },
  {
   "cell_type": "markdown",
   "metadata": {},
   "source": [
    "### 1. product information lookup function (3 points)\n",
    "\n",
    "Write a function ```get_product(code)``` where code is the key of the product information in the products dictionary. The function should return the dictionary containing the specific product information.\n",
    "For example:\n",
    "\n",
    "\n",
    "**```get_product(\"espresso\")```**\n",
    "\n",
    "should yield\n",
    "\n",
    "**```{\"name\":\"Espresso\",\"price\":140.00}```**\n"
   ]
  },
  {
   "cell_type": "code",
   "execution_count": 3,
   "metadata": {},
   "outputs": [
    {
     "data": {
      "text/plain": [
       "{'name': 'Espresso', 'price': 140.0}"
      ]
     },
     "execution_count": 3,
     "metadata": {},
     "output_type": "execute_result"
    }
   ],
   "source": [
    "## Answer\n",
    "\n",
    "def get_product(code):\n",
    "    ## write your code here\n",
    "\n",
    "get_product(\"espresso\")"
   ]
  },
  {
   "cell_type": "code",
   "execution_count": 4,
   "metadata": {},
   "outputs": [
    {
     "data": {
      "text/plain": [
       "{'name': 'Espresso', 'price': 140.0}"
      ]
     },
     "execution_count": 4,
     "metadata": {},
     "output_type": "execute_result"
    }
   ],
   "source": [
    "# my answer 1111\n",
    "\n",
    "def get_product(code):\n",
    "    return products[code]\n",
    "    \n",
    "get_product(\"espresso\")"
   ]
  },
  {
   "cell_type": "code",
   "execution_count": null,
   "metadata": {},
   "outputs": [],
   "source": []
  },
  {
   "cell_type": "code",
   "execution_count": null,
   "metadata": {},
   "outputs": [],
   "source": []
  },
  {
   "cell_type": "markdown",
   "metadata": {},
   "source": [
    "### 2. retrieve product attributes (2 points)\n",
    "a. Write one line of code that calls ```get_product(code)``` and returns the price of that product."
   ]
  },
  {
   "cell_type": "code",
   "execution_count": 5,
   "metadata": {},
   "outputs": [
    {
     "data": {
      "text/plain": [
       "140.0"
      ]
     },
     "execution_count": 5,
     "metadata": {},
     "output_type": "execute_result"
    }
   ],
   "source": [
    "## Answer: (sample output has already been provided below)\n",
    "\n"
   ]
  },
  {
   "cell_type": "code",
   "execution_count": 8,
   "metadata": {},
   "outputs": [
    {
     "data": {
      "text/plain": [
       "140.0"
      ]
     },
     "execution_count": 8,
     "metadata": {},
     "output_type": "execute_result"
    }
   ],
   "source": [
    "# my answer 2222\n",
    "\n",
    "def get_price(code):\n",
    "    price = get_product(code)[\"price\"]\n",
    "    return price\n",
    "\n",
    "get_price(\"espresso\")"
   ]
  },
  {
   "cell_type": "code",
   "execution_count": null,
   "metadata": {},
   "outputs": [],
   "source": []
  },
  {
   "cell_type": "code",
   "execution_count": null,
   "metadata": {},
   "outputs": [],
   "source": []
  },
  {
   "cell_type": "markdown",
   "metadata": {},
   "source": [
    "b. Write one line of code that calls ```get_product(code)``` and returns the name of that product.\n",
    "\n",
    "You may include your one line of code inside a function. The function definition and the return statements are excluded from the count."
   ]
  },
  {
   "cell_type": "code",
   "execution_count": 6,
   "metadata": {},
   "outputs": [
    {
     "data": {
      "text/plain": [
       "'Espresso'"
      ]
     },
     "execution_count": 6,
     "metadata": {},
     "output_type": "execute_result"
    }
   ],
   "source": [
    "## Answer:\n",
    "\n",
    "## write your answer here (sample output has already been provided below)\n",
    "\n",
    "\n"
   ]
  },
  {
   "cell_type": "code",
   "execution_count": 7,
   "metadata": {},
   "outputs": [
    {
     "data": {
      "text/plain": [
       "'Espresso'"
      ]
     },
     "execution_count": 7,
     "metadata": {},
     "output_type": "execute_result"
    }
   ],
   "source": [
    "# my answer 3333\n",
    "\n",
    "def get_name(code):\n",
    "    price = get_product(code)[\"name\"]\n",
    "    return price\n",
    "\n",
    "get_name(\"espresso\")"
   ]
  },
  {
   "cell_type": "code",
   "execution_count": null,
   "metadata": {},
   "outputs": [],
   "source": []
  },
  {
   "cell_type": "code",
   "execution_count": null,
   "metadata": {},
   "outputs": [],
   "source": []
  },
  {
   "cell_type": "markdown",
   "metadata": {},
   "source": [
    "### 2. Point-of-Sale Terminal  (5 points)\n",
    "\n",
    "Write a function ```main``` that asks for orders of food from a customer. The system should ask for the following:\n",
    "* Product Code (assume that the clerk has memorized the product codes)\n",
    "* Quantity\n",
    "\n",
    "The system then must update an electronic **food tray** (which is just a fancy term for a list of items ordered). Implement the food tray as a list of ordered items, each of which is a *dictionary* containing the following key-value pairs: \n",
    "\n",
    "* product_code, \n",
    "* quantity\n",
    "* subtotal *(which is just the quantity multiplied by the price of the product)*\n",
    "\n",
    "Design your program such that **food_tray** is a variable of the **main** function for now. We will deal with better software design later on. In any case, if any of your functions need to work on the food_tray, pass it as a parameter.\n",
    "\n",
    "The system must compute the subtotal before appending to the food tray.\n",
    "\n",
    "The system must be able to determine if the customer is done with his/her order. Once done, the system notifies the clerk/user of the grand total. \n",
    "\n",
    "The system then prints out the receipt (for now, just show it appear in the notebook), after which it is ready to process the next customer order. Make sure to clear out the food_tray after each successful order.\n",
    "\n",
    "**Bonus (2 points):**\n",
    "Format the receipt output using various print formatting options. You will have to do research on this."
   ]
  },
  {
   "cell_type": "code",
   "execution_count": 7,
   "metadata": {},
   "outputs": [],
   "source": [
    "def add_to_tray(food_tray, ordered_item):\n",
    "    ## write your code here\n",
    " \n",
    "    "
   ]
  },
  {
   "cell_type": "code",
   "execution_count": 8,
   "metadata": {},
   "outputs": [],
   "source": [
    "def generate_receipt(food_tray):\n",
    "    ## write your code here\n",
    "    ## it is expected you will use print instead of returning a value\n",
    "    ## hint: use accumulator pattern and loop through the items in the food tray\n",
    "    ## hint: you will have to look up the product name from the products dictionary to make the receipt\n",
    "    ##       more presentable        "
   ]
  },
  {
   "cell_type": "code",
   "execution_count": null,
   "metadata": {},
   "outputs": [],
   "source": [
    "def add_to_tray(food_tray, ordered_item):\n",
    "    # making the dictonaries for one current order\n",
    "    ordered_item[\"code\"] = code\n",
    "    ordered_item[\"quantity\"] = quantity\n",
    "    ordered_item[\"subtotal\"] = subtotal\n",
    "    Total.append(subtotal)\n",
    "    food_tray.append(ordered_item)"
   ]
  },
  {
   "cell_type": "code",
   "execution_count": null,
   "metadata": {},
   "outputs": [],
   "source": [
    "def generate_receipt(food_tray):\n",
    "    print(\"-----------------------------------------------------\")\n",
    "    count = 0\n",
    "    for item in food_tray:\n",
    "        F_productcode = PRODUCTCODES[count]\n",
    "        count += 1\n",
    "        F_code = item[\"code\"]\n",
    "        F_quantity= item[\"quantity\"]\n",
    "        F_subtotal = item[\"subtotal\"]\n",
    "                \n",
    "        #doing it the easy way\n",
    "        #print(F_productcode,F_code,F_quantity,F_subtotal)\n",
    "                \n",
    "        # making it prettier for the bonus HAHA\n",
    "        print(\"{:<13}{:<25}{:>6}{:>9}\".format(F_productcode,F_code,F_quantity,F_subtotal),end=\"\")\n",
    "        print(\"\")\n",
    "    F_total = sum(Total)\n",
    "    print(\"Total:\",end=\"\")\n",
    "    print(\"{:>47}\".format(F_total))             \n",
    "    print(\"-----------------------------------------------------\") "
   ]
  },
  {
   "cell_type": "code",
   "execution_count": 12,
   "metadata": {},
   "outputs": [
    {
     "name": "stdout",
     "output_type": "stream",
     "text": [
      "Options: N-New customer, Q-Quit: N\n",
      "Enter Product Code: cappuccino\n",
      "Enter Quantity: 1\n",
      "cappuccino : 1\n",
      "Add more items? (Y/N): Y\n",
      "Enter Product Code: brewedcoffee\n",
      "Enter Quantity: 5\n",
      "brewedcoffee : 5\n",
      "Add more items? (Y/N): N\n",
      "-----------------------------------------------------\n",
      "cappuccino   Cappuccino                    1    170.0\n",
      "brewedcoffee Brewed Coffee                 5    550.0\n",
      "Total:                                          720.0\n",
      "-----------------------------------------------------\n",
      "Options: N-New customer, Q-Quit: N\n",
      "Enter Product Code: frappuccino\n",
      "Enter Quantity: 11\n",
      "frappuccino : 11\n",
      "Add more items? (Y/N): Y\n",
      "Enter Product Code: brewedcoffee\n",
      "Enter Quantity: 99\n",
      "brewedcoffee : 99\n",
      "Add more items? (Y/N): N\n",
      "-----------------------------------------------------\n",
      "frappuccino  Frappuccino                  11   1870.0\n",
      "brewedcoffee Brewed Coffee                99  10890.0\n",
      "Total:                                        12760.0\n",
      "-----------------------------------------------------\n",
      "Options: N-New customer, Q-Quit: Q\n",
      "Exiting CoffeePython POS Terminal. Have a great day.\n"
     ]
    }
   ],
   "source": [
    "# MY FINAL ANSWER\n",
    "\n",
    "products = {\n",
    "    \"americano\":{\"name\":\"Americano\",\"price\":150.00},\n",
    "    \"brewedcoffee\":{\"name\":\"Brewed Coffee\",\"price\":110.00},\n",
    "    \"cappuccino\":{\"name\":\"Cappuccino\",\"price\":170.00},\n",
    "    \"dalgona\":{\"name\":\"Dalgona\",\"price\":170.00},\n",
    "    \"espresso\":{\"name\":\"Espresso\",\"price\":140.00},\n",
    "    \"frappuccino\":{\"name\":\"Frappuccino\",\"price\":170.00},\n",
    "}\n",
    "\n",
    "def main():\n",
    "    # functions to get the code and price\n",
    "    def get_product(code):\n",
    "        return products[code]\n",
    "    def get_price(code):\n",
    "        price = get_product(code)[\"price\"]\n",
    "        return price\n",
    "    def get_name(code):\n",
    "        price = get_product(code)[\"name\"]\n",
    "        return price\n",
    "    \n",
    "    # adding to food tray which contains a list of the dictionaries\n",
    "    # each dictionary contains a code, quantity, and subtotal\n",
    "    def add_to_tray(food_tray, ordered_item):\n",
    "        # making the dictonaries for one current order\n",
    "        ordered_item[\"code\"] = code\n",
    "        ordered_item[\"quantity\"] = quantity\n",
    "        ordered_item[\"subtotal\"] = subtotal\n",
    "        Total.append(subtotal)\n",
    "        food_tray.append(ordered_item)\n",
    "        \n",
    "    # generating the receipt in a good format\n",
    "    def generate_receipt(food_tray):\n",
    "        print(\"-----------------------------------------------------\")\n",
    "        count = 0\n",
    "        for item in food_tray:\n",
    "            F_productcode = PRODUCTCODES[count]\n",
    "            count += 1\n",
    "            F_code = item[\"code\"]\n",
    "            F_quantity= item[\"quantity\"]\n",
    "            F_subtotal = item[\"subtotal\"]\n",
    "                \n",
    "            #doing it the easy way\n",
    "            #print(F_productcode,F_code,F_quantity,F_subtotal)\n",
    "                \n",
    "            # making it prettier for the bonus HAHA\n",
    "            print(\"{:<13}{:<25}{:>6}{:>9}\".format(F_productcode,F_code,F_quantity,F_subtotal),end=\"\")\n",
    "            print(\"\")\n",
    "        F_total = sum(Total)\n",
    "        print(\"Total:\",end=\"\")\n",
    "        print(\"{:>47}\".format(F_total))             \n",
    "        print(\"-----------------------------------------------------\")  \n",
    "            \n",
    "        \n",
    "        \n",
    "    while True:\n",
    "        customer = input(\"Options: N-New customer, Q-Quit: \")\n",
    "        # break if customers press Q, if N then go with the loops, if something else, print wrong input\n",
    "        if customer == \"Q\":\n",
    "            break\n",
    "        elif customer == \"N\":\n",
    "            # the list go back to empty, once a \"new customer\" comes\n",
    "            food_tray = list()\n",
    "            Total = list()\n",
    "            another_order = \"Y\"\n",
    "            PRODUCTCODES = list()\n",
    "            # as long as the customers says Y, we want to receive his orders for the same lists above\n",
    "            while another_order == \"Y\":\n",
    "                product_code = input(\"Enter Product Code: \")\n",
    "                PRODUCTCODES.append(product_code)\n",
    "                quantity = int(input(\"Enter Quantity: \"))\n",
    "\n",
    "                # passing in the values to get code,price,subtotal for one current order\n",
    "                code = get_name(product_code)\n",
    "                price = get_price(product_code)\n",
    "                subtotal = price*quantity\n",
    "                \n",
    "                ordered_item = dict()\n",
    "                add_to_tray(food_tray, ordered_item)\n",
    "                    \n",
    "                # printing what he ordered and quantity\n",
    "                print(product_code,\":\",quantity)\n",
    "                # checking the values per order\n",
    "                #print(ordered_item)\n",
    "                #print(food_tray)\n",
    "                another_order = input(\"Add more items? (Y/N): \")\n",
    "            \n",
    "            # generating the list only after the customer says \"N\" no more products, which would break the y loop above\n",
    "            generate_receipt(food_tray)\n",
    "        else:\n",
    "            print(\"wrong input\")\n",
    "    print(\"Exiting CoffeePython POS Terminal. Have a great day.\")\n",
    "main()\n"
   ]
  },
  {
   "cell_type": "markdown",
   "metadata": {},
   "source": [
    "##### **Hint:** The ```ordered_item``` dictionary inside ```main()``` has at least three keys: ```code```, ```qty```, and ```subtotal```. You know how to get ```code``` and ```qty``` as these come from variables storing entered values from ```input(\"...\")```. To compute ```subtotal``` you need to get the price of the product (using ```code```) somewhere. Your answer in 2a. will help you.\n",
    "\n",
    "This new ```ordered_item``` dictionary will then need to be added to the ```food_tray``` list in a later step. We can add dictionaries to lists, right? Call the function ```add_to_tray(food_tray, ordered_item)``` to do this.\n",
    "\n",
    "The variable ```food_tray``` is a **list** of **dictionaries**. The ```ordered_item``` variable is a **dictionary**."
   ]
  },
  {
   "cell_type": "code",
   "execution_count": 1,
   "metadata": {},
   "outputs": [],
   "source": [
    "def main():\n",
    "    \n",
    "    food_tray = []\n",
    "    command = \"N\"\n",
    "    while(True):\n",
    "        command = input(\"Options: N-New customer, Q-Quit \")\n",
    "        if(command.upper()==\"Q\"):\n",
    "            break\n",
    "        else:\n",
    "            more = \"Y\"\n",
    "            while(more==\"Y\"):\n",
    "                code = input(\"Enter Product Code: \")\n",
    "                qty = int(input(\"Enter Quantity: \"))\n",
    "                print(code + \": \"+str(qty))\n",
    "                ## add code here\n",
    "                ordered_item = dict()\n",
    "                ordered_item[\"code\"] = code\n",
    "                ordered_item[\"qty\"] = qty\n",
    "                ## compute subtotal and add to the ordered_item dictionary\n",
    "                ordered_item[\"subtotal\"] = int(qty) * get_product(code)[\"price\"]\n",
    "                \n",
    "                ## add to food_tray\n",
    "                add_to_tray(food_tray,ordered_item)\n",
    "\n",
    "                more = input(\"Add more items? (Y/N): \").upper()\n",
    "                \n",
    "        # print(food_tray) # replace with an on-screen receipt\n",
    "        generate_receipt(food_tray)\n",
    "        food_tray = [] # clear out food tray\n",
    "        \n",
    "        \n",
    "    print(\"Exiting CoffeePython POS Terminal. Have a great day.\")"
   ]
  },
  {
   "cell_type": "code",
   "execution_count": null,
   "metadata": {},
   "outputs": [],
   "source": []
  },
  {
   "cell_type": "code",
   "execution_count": null,
   "metadata": {},
   "outputs": [],
   "source": []
  },
  {
   "cell_type": "code",
   "execution_count": 12,
   "metadata": {},
   "outputs": [
    {
     "name": "stdout",
     "output_type": "stream",
     "text": [
      "Options: N-New customer, Q-Quit N\n",
      "Enter Product Code: cappuccino\n",
      "Enter Quantity: 1\n",
      "cappuccino: 1\n",
      "Add more items? (Y/N): Y\n",
      "Enter Product Code: brewedcoffee\n",
      "Enter Quantity: 5\n",
      "brewedcoffee: 5\n",
      "Add more items? (Y/N): N\n",
      "-----------------------------------------------------\n",
      "cappuccino   Cappuccino                   1     170.0\n",
      "brewedcoffee Brewed Coffee                5     550.0\n",
      " \n",
      "Total:                                          720.0\n",
      "-----------------------------------------------------\n",
      "Options: N-New customer, Q-Quit Q\n",
      "Exiting CoffeePython POS Terminal. Have a great day.\n"
     ]
    }
   ],
   "source": [
    "# Sample output has been provided below\n",
    "main()"
   ]
  },
  {
   "cell_type": "code",
   "execution_count": null,
   "metadata": {},
   "outputs": [],
   "source": []
  },
  {
   "cell_type": "code",
   "execution_count": null,
   "metadata": {},
   "outputs": [],
   "source": []
  },
  {
   "cell_type": "code",
   "execution_count": null,
   "metadata": {},
   "outputs": [],
   "source": []
  },
  {
   "cell_type": "code",
   "execution_count": null,
   "metadata": {},
   "outputs": [],
   "source": []
  },
  {
   "cell_type": "code",
   "execution_count": null,
   "metadata": {},
   "outputs": [],
   "source": []
  },
  {
   "cell_type": "code",
   "execution_count": null,
   "metadata": {},
   "outputs": [],
   "source": []
  },
  {
   "cell_type": "code",
   "execution_count": null,
   "metadata": {},
   "outputs": [],
   "source": []
  },
  {
   "cell_type": "code",
   "execution_count": null,
   "metadata": {},
   "outputs": [],
   "source": [
    "# MY ANSWER w/o following the format fully\n",
    "\n",
    "products = {\n",
    "    \"americano\":{\"name\":\"Americano\",\"price\":150.00},\n",
    "    \"brewedcoffee\":{\"name\":\"Brewed Coffee\",\"price\":110.00},\n",
    "    \"cappuccino\":{\"name\":\"Cappuccino\",\"price\":170.00},\n",
    "    \"dalgona\":{\"name\":\"Dalgona\",\"price\":170.00},\n",
    "    \"espresso\":{\"name\":\"Espresso\",\"price\":140.00},\n",
    "    \"frappuccino\":{\"name\":\"Frappuccino\",\"price\":170.00},\n",
    "}\n",
    "\n",
    "def main():\n",
    "    # functions to get the code and price\n",
    "    def get_product(code):\n",
    "        return products[code]\n",
    "    def get_price(code):\n",
    "        price = get_product(code)[\"price\"]\n",
    "        return price\n",
    "    def get_name(code):\n",
    "        price = get_product(code)[\"name\"]\n",
    "        return price\n",
    "    \n",
    "    while True:\n",
    "        customer = input(\"Options: N-New customer, Q-Quit: \")\n",
    "        if customer == \"Q\":\n",
    "            break\n",
    "        elif customer == \"N\":\n",
    "            food_tray = list()\n",
    "            Total = list()\n",
    "            another_order = \"Y\"\n",
    "            PRODUCTCODES = list()\n",
    "            while another_order == \"Y\":\n",
    "                product_code = input(\"Enter Product Code: \")\n",
    "                PRODUCTCODES.append(product_code)\n",
    "                quantity = int(input(\"Enter Quantity: \"))\n",
    "\n",
    "                # passing in the values to get code,price,subtotal for one current order\n",
    "                code = get_name(product_code)\n",
    "                price = get_price(product_code)\n",
    "                subtotal = price*quantity\n",
    "\n",
    "                # making the dictonaries for one current order\n",
    "                ordered_item = dict()\n",
    "                ordered_item[\"code\"] = code\n",
    "                ordered_item[\"quantity\"] = quantity\n",
    "                ordered_item[\"subtotal\"] = subtotal\n",
    "                Total.append(subtotal)\n",
    "                food_tray.append(ordered_item)\n",
    "                \n",
    "                # printing what he ordered and quantity\n",
    "                print(product_code,\":\",quantity)\n",
    "                # checking the values per order\n",
    "                #print(ordered_item)\n",
    "                #print(food_tray)\n",
    "                another_order = input(\"Add more items? (Y/N): \")\n",
    "            \n",
    "            print(\"-----------------------------------------------------\")\n",
    "            count = 0\n",
    "            for item in food_tray:\n",
    "                F_productcode = PRODUCTCODES[count]\n",
    "                count += 1\n",
    "                F_code = item[\"code\"]\n",
    "                F_quantity= item[\"quantity\"]\n",
    "                F_subtotal = item[\"subtotal\"]\n",
    "                \n",
    "                #doing it the easy way\n",
    "                #print(F_productcode,F_code,F_quantity,F_subtotal)\n",
    "                \n",
    "                # making it prettier for the bonus HAHA\n",
    "                print(\"{:<13}{:<25}{:>6}{:>9}\".format(F_productcode,F_code,F_quantity,F_subtotal),end=\"\")\n",
    "                print(\"\")\n",
    "            F_total = sum(Total)\n",
    "            print(\"Total:\",end=\"\")\n",
    "            print(\"{:>47}\".format(F_total))             \n",
    "            print(\"-----------------------------------------------------\")    \n",
    "        else:\n",
    "            print(\"wrong input\")\n",
    "        \n",
    "main()\n"
   ]
  },
  {
   "cell_type": "code",
   "execution_count": null,
   "metadata": {},
   "outputs": [],
   "source": [
    "# MY ANSWER  - will help you understand the basics first\n",
    "\n",
    "products = {\n",
    "    \"americano\":{\"name\":\"Americano\",\"price\":150.00},\n",
    "    \"brewedcoffee\":{\"name\":\"Brewed Coffee\",\"price\":110.00},\n",
    "    \"cappuccino\":{\"name\":\"Cappuccino\",\"price\":170.00},\n",
    "    \"dalgona\":{\"name\":\"Dalgona\",\"price\":170.00},\n",
    "    \"espresso\":{\"name\":\"Espresso\",\"price\":140.00},\n",
    "    \"frappuccino\":{\"name\":\"Frappuccino\",\"price\":170.00},\n",
    "}\n",
    "\n",
    "def get_product(code):\n",
    "    return products[code]\n",
    "    \n",
    "def get_price(code):\n",
    "    price = get_product(code)[\"price\"]\n",
    "    return price\n",
    "\n",
    "\n",
    "def get_name(code):\n",
    "    price = get_product(code)[\"name\"]\n",
    "    return price\n",
    "\n",
    "\n",
    "product_code = input(\"Enter Product Code: \")\n",
    "quantity = int(input(\"Enter Quantity: \"))\n",
    "\n",
    "code = get_name(product_code)\n",
    "price = get_price(product_code)\n",
    "subtotal = price*quantity\n",
    "\n",
    "\n",
    "ordered_item = dict()\n",
    "ordered_item[\"code\"] = code\n",
    "ordered_item[\"quantity\"] = quantity\n",
    "ordered_item[\"subtotal\"] = subtotal\n",
    "\n",
    "food_tray = list()\n",
    "food_tray.append(ordered_item)\n",
    "\n",
    "\n",
    "\n",
    "\n",
    "print(code)\n",
    "print(price)\n",
    "print(subtotal)\n",
    "print(ordered_item)\n",
    "print(food_tray)\n",
    "\n"
   ]
  }
 ],
 "metadata": {
  "kernelspec": {
   "display_name": "Python 3",
   "language": "python",
   "name": "python3"
  },
  "language_info": {
   "codemirror_mode": {
    "name": "ipython",
    "version": 3
   },
   "file_extension": ".py",
   "mimetype": "text/x-python",
   "name": "python",
   "nbconvert_exporter": "python",
   "pygments_lexer": "ipython3",
   "version": "3.7.6"
  }
 },
 "nbformat": 4,
 "nbformat_minor": 2
}
