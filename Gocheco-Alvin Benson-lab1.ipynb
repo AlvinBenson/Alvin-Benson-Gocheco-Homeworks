{
 "cells": [
  {
   "cell_type": "markdown",
   "metadata": {},
   "source": [
    "192271  \n",
    "Gocheco  \n",
    "2 BS Management Engineering"
   ]
  },
  {
   "cell_type": "code",
   "execution_count": 1,
   "metadata": {},
   "outputs": [
    {
     "name": "stdout",
     "output_type": "stream",
     "text": [
      "Enter the amount in US Dollars: 20\n",
      "20 US dollar(s) =  1000 Philippine Pesos\n"
     ]
    }
   ],
   "source": [
    "# Problem 1\n",
    "\n",
    "dollars = int(input(\"Enter the amount in US Dollars: \"))\n",
    "\n",
    "def dollars_to_pesos(dollar_given):\n",
    "    conversion_rate = 50\n",
    "    equivalent_pesos = dollar_given * conversion_rate\n",
    "    return equivalent_pesos\n",
    "    \n",
    "pesos = dollars_to_pesos(dollars)\n",
    "\n",
    "print(dollars,\"US dollar(s) = \",pesos,\"Philippine Pesos\")\n"
   ]
  },
  {
   "cell_type": "code",
   "execution_count": 16,
   "metadata": {},
   "outputs": [
    {
     "name": "stdout",
     "output_type": "stream",
     "text": [
      "Please enter the first number: 128\n",
      "Please enter the second number: 8\n",
      "136\n",
      "120\n",
      "1024\n",
      "16\n",
      "0\n"
     ]
    }
   ],
   "source": [
    "# Problem 2\n",
    "a = int(input(\"Please enter the first number: \"))\n",
    "b = int(input(\"Please enter the second number: \"))\n",
    "\n",
    "sum = a + b\n",
    "subtracted = a - b\n",
    "product = a * b\n",
    "quotient = a//b\n",
    "remainder = a % b\n",
    "\n",
    "print(sum)\n",
    "print(subtracted)\n",
    "print(product)\n",
    "print(quotient)\n",
    "print(remainder)"
   ]
  },
  {
   "cell_type": "code",
   "execution_count": 21,
   "metadata": {},
   "outputs": [
    {
     "name": "stdout",
     "output_type": "stream",
     "text": [
      "Enter kg: 70\n",
      "Enter cm: 170\n",
      "BMI:  24.221453287197235\n"
     ]
    }
   ],
   "source": [
    "#Problem 3\n",
    "kilograms = int(input(\"Enter kg: \"))\n",
    "centimeters = int(input(\"Enter cm: \"))\n",
    "\n",
    "def convert_cm_to_m(cm):\n",
    "    meters = cm/100\n",
    "    return meters\n",
    "\n",
    "actual_meters = convert_cm_to_m(centimeters)\n",
    "\n",
    "def compute_bmi(kg,m):\n",
    "    BMI = kg/(m**2)\n",
    "    return BMI\n",
    "\n",
    "Answer = compute_bmi(kilograms,actual_meters)\n",
    "print(\"BMI: \",Answer)\n",
    "\n",
    "\n",
    "    \n",
    "    \n",
    "    \n",
    "    \n",
    "\n",
    "\n",
    "\n"
   ]
  },
  {
   "cell_type": "code",
   "execution_count": null,
   "metadata": {},
   "outputs": [],
   "source": []
  },
  {
   "cell_type": "code",
   "execution_count": null,
   "metadata": {},
   "outputs": [],
   "source": []
  }
 ],
 "metadata": {
  "kernelspec": {
   "display_name": "Python 3",
   "language": "python",
   "name": "python3"
  },
  "language_info": {
   "codemirror_mode": {
    "name": "ipython",
    "version": 3
   },
   "file_extension": ".py",
   "mimetype": "text/x-python",
   "name": "python",
   "nbconvert_exporter": "python",
   "pygments_lexer": "ipython3",
   "version": "3.7.6"
  }
 },
 "nbformat": 4,
 "nbformat_minor": 4
}
