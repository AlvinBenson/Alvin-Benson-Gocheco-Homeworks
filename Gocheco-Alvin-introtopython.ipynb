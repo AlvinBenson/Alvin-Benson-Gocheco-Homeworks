{
 "cells": [
  {
   "cell_type": "markdown",
   "metadata": {},
   "source": [
    "192271  \n",
    "Gocheco  \n",
    "2 BS Management Engineering"
   ]
  },
  {
   "cell_type": "code",
   "execution_count": 1,
   "metadata": {},
   "outputs": [
    {
     "name": "stdout",
     "output_type": "stream",
     "text": [
      "Enter first number: 1\n",
      "Enter second number: 2\n",
      "Enter third number: 3\n",
      "The average is 2.0\n"
     ]
    }
   ],
   "source": [
    "first = int(input(\"Enter first number: \"))\n",
    "second = int(input(\"Enter second number: \"))\n",
    "third = int(input(\"Enter third number: \"))\n",
    "\n",
    "\n",
    "def three_number_average(first,second,third):\n",
    "    Average = (first + second + third)/3\n",
    "    return Average\n",
    "\n",
    "Answer = three_number_average(first,second,third)\n",
    "print(\"The average is\",Answer)"
   ]
  },
  {
   "cell_type": "code",
   "execution_count": 2,
   "metadata": {},
   "outputs": [
    {
     "name": "stdout",
     "output_type": "stream",
     "text": [
      "Enter first number: 2\n",
      "Enter second number: 4\n",
      "Enter third number: 6\n",
      "The average is 4.0\n"
     ]
    }
   ],
   "source": [
    "first = int(input(\"Enter first number: \"))\n",
    "second = int(input(\"Enter second number: \"))\n",
    "third = int(input(\"Enter third number: \"))\n",
    "\n",
    "\n",
    "def three_number_average(first,second,third):\n",
    "    Average = (first + second + third)/3\n",
    "    return Average\n",
    "\n",
    "Answer = three_number_average(first,second,third)\n",
    "print(\"The average is\",Answer)"
   ]
  },
  {
   "cell_type": "code",
   "execution_count": 3,
   "metadata": {},
   "outputs": [
    {
     "name": "stdout",
     "output_type": "stream",
     "text": [
      "Enter first number: 1\n",
      "Enter second number: 1\n",
      "Enter third number: 1\n",
      "The average is 1.0\n"
     ]
    }
   ],
   "source": [
    "first = int(input(\"Enter first number: \"))\n",
    "second = int(input(\"Enter second number: \"))\n",
    "third = int(input(\"Enter third number: \"))\n",
    "\n",
    "\n",
    "def three_number_average(first,second,third):\n",
    "    Average = (first + second + third)/3\n",
    "    return Average\n",
    "\n",
    "Answer = three_number_average(first,second,third)\n",
    "print(\"The average is\",Answer)"
   ]
  },
  {
   "cell_type": "code",
   "execution_count": null,
   "metadata": {},
   "outputs": [],
   "source": []
  }
 ],
 "metadata": {
  "kernelspec": {
   "display_name": "Python 3",
   "language": "python",
   "name": "python3"
  },
  "language_info": {
   "codemirror_mode": {
    "name": "ipython",
    "version": 3
   },
   "file_extension": ".py",
   "mimetype": "text/x-python",
   "name": "python",
   "nbconvert_exporter": "python",
   "pygments_lexer": "ipython3",
   "version": "3.7.6"
  }
 },
 "nbformat": 4,
 "nbformat_minor": 4
}
